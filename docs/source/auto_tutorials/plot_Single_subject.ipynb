{
  "cells": [
    {
      "cell_type": "code",
      "execution_count": null,
      "metadata": {
        "collapsed": false
      },
      "outputs": [],
      "source": [
        "%matplotlib inline"
      ]
    },
    {
      "cell_type": "markdown",
      "metadata": {},
      "source": [
        "\n# Single Subject Segmentation\n\nThis example demonstrates how to segment a single subject recording into microstates sequence.\n"
      ]
    },
    {
      "cell_type": "code",
      "execution_count": null,
      "metadata": {
        "collapsed": false
      },
      "outputs": [],
      "source": [
        "from mne.io import concatenate_raws, read_raw_edf\nfrom mne.datasets import eegbci\nfrom mne.channels import make_standard_montage\nimport pandas as pd\n\nimport pycrostates\nfrom pycrostates.clustering import ModKMeans\nfrom pycrostates.metrics import compute_metrics\n\nsubject = 1\nruns = [1,2,3]  # motor imagery: hands vs feet\n\nraw_fnames = eegbci.load_data(subject, runs, update_path=True)\nraw_files = [read_raw_edf(f, preload=True) for f in raw_fnames]\nraw = concatenate_raws(raw_files)\neegbci.standardize(raw)  # set channel names\n\nraw.rename_channels(lambda x: x.strip('.'))\nmontage = make_standard_montage('standard_1005')\nraw.set_montage(montage)\n\nraw.pick('eeg')\nraw.set_eeg_reference('average')"
      ]
    },
    {
      "cell_type": "markdown",
      "metadata": {},
      "source": [
        "Fit the modified Kmeans algorithm with the raw data. Here we use ``gfp=True`` to extract gfp peaks on fly.\nNote that, depending on your setup, you can change ``n_jobs=1`` in order to use parallel processing and speed up the process.\n\n"
      ]
    },
    {
      "cell_type": "code",
      "execution_count": null,
      "metadata": {
        "collapsed": false
      },
      "outputs": [],
      "source": [
        "n_clusters = 4\nModK = ModKMeans(n_clusters=n_clusters)\nModK.fit(raw, gfp=True, n_jobs=5)"
      ]
    },
    {
      "cell_type": "markdown",
      "metadata": {},
      "source": [
        "Now that our algorithm is fitted, we can visualise the cluster centers, also called Microstate maps or Microstate topographies\nusing :meth:`ModK.plot_cluster_centers`. Note than this method uses the :class:`~mne.Info` object of the fitted instance to display\nthe topographies.\n\n"
      ]
    },
    {
      "cell_type": "code",
      "execution_count": null,
      "metadata": {
        "collapsed": false
      },
      "outputs": [],
      "source": [
        "ModK.plot_cluster_centers()"
      ]
    },
    {
      "cell_type": "markdown",
      "metadata": {},
      "source": [
        "Predict.\n\n"
      ]
    },
    {
      "cell_type": "code",
      "execution_count": null,
      "metadata": {
        "collapsed": false
      },
      "outputs": [],
      "source": [
        "segmentation = ModK.predict(raw, half_window_size=5, factor=10)\npycrostates.viz.plot_segmentation(segmentation, raw)"
      ]
    },
    {
      "cell_type": "markdown",
      "metadata": {},
      "source": [
        "Compute microstate parameters and convert results into a :class:`~pandas.DataFrame`.\n\n"
      ]
    },
    {
      "cell_type": "code",
      "execution_count": null,
      "metadata": {
        "collapsed": false
      },
      "outputs": [],
      "source": [
        "metrics = compute_metrics(raw, ModK, norm_gfp=True,  half_window_size=5, factor=10)\ndf = pd.DataFrame([metrics])\nprint(df)"
      ]
    }
  ],
  "metadata": {
    "kernelspec": {
      "display_name": "Python 3",
      "language": "python",
      "name": "python3"
    },
    "language_info": {
      "codemirror_mode": {
        "name": "ipython",
        "version": 3
      },
      "file_extension": ".py",
      "mimetype": "text/x-python",
      "name": "python",
      "nbconvert_exporter": "python",
      "pygments_lexer": "ipython3",
      "version": "3.7.3"
    }
  },
  "nbformat": 4,
  "nbformat_minor": 0
}