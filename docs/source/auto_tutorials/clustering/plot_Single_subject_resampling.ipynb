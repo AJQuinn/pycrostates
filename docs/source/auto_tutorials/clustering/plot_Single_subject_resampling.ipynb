{
  "cells": [
    {
      "cell_type": "code",
      "execution_count": null,
      "metadata": {
        "collapsed": false
      },
      "outputs": [],
      "source": [
        "%matplotlib inline"
      ]
    },
    {
      "cell_type": "markdown",
      "metadata": {},
      "source": [
        "\n# Single Subject Segmentation with resampling\n\nThis example demonstrates how to segment a single subject recording into microstates sequence.\n"
      ]
    },
    {
      "cell_type": "code",
      "execution_count": null,
      "metadata": {
        "collapsed": false
      },
      "outputs": [],
      "source": [
        "from mne.io import read_raw_edf\nfrom mne.datasets import eegbci\nfrom mne.channels import make_standard_montage\n\nfrom pycrostates.clustering import ModKMeans\n\nsubject = 1\nruns = [1]\n\nraw_fnames = eegbci.load_data(subject, runs, update_path=True)[0]\nraw = read_raw_edf(raw_fnames, preload=True)\neegbci.standardize(raw)  # set channel names\n\nraw.rename_channels(lambda x: x.strip('.'))\nmontage = make_standard_montage('standard_1005')\nraw.set_montage(montage)\n\nraw.pick('eeg')\nraw.set_eeg_reference('average')"
      ]
    },
    {
      "cell_type": "markdown",
      "metadata": {},
      "source": [
        "This step is optional. We can extract GfP peaks before doing resampling.\n\n"
      ]
    },
    {
      "cell_type": "code",
      "execution_count": null,
      "metadata": {
        "collapsed": false
      },
      "outputs": [],
      "source": [
        "from pycrostates.preprocessing import extract_gfp_peaks\nraw = extract_gfp_peaks(raw, min_peak_distance=3)\nraw"
      ]
    },
    {
      "cell_type": "markdown",
      "metadata": {},
      "source": [
        "Resample raw instance into 10 epochs of 150 samples\n\n"
      ]
    },
    {
      "cell_type": "code",
      "execution_count": null,
      "metadata": {
        "collapsed": false
      },
      "outputs": [],
      "source": [
        "from pycrostates.preprocessing import resample\nresamples = resample(raw, n_epochs=10, n_samples=150, random_state=40)"
      ]
    },
    {
      "cell_type": "markdown",
      "metadata": {},
      "source": [
        "Compute Kmeans clustering on each sample independently\n\n"
      ]
    },
    {
      "cell_type": "code",
      "execution_count": null,
      "metadata": {
        "collapsed": false
      },
      "outputs": [],
      "source": [
        "n_clusters = 4\nModK = ModKMeans(n_clusters=n_clusters, random_state=42)\n\nresample_centers = list()\nfor sample in resamples:\n    ModK.fit(sample, n_jobs=5)\n    cluster_centers = ModK.get_cluster_centers_as_raw()\n    resample_centers.append(cluster_centers)"
      ]
    },
    {
      "cell_type": "markdown",
      "metadata": {},
      "source": [
        "Then compute Kmeans clustering on the concatenated results\n\n"
      ]
    },
    {
      "cell_type": "code",
      "execution_count": null,
      "metadata": {
        "collapsed": false
      },
      "outputs": [],
      "source": [
        "from mne import concatenate_raws\nconcat_raw = concatenate_raws(resample_centers)\nModK.fit(concat_raw, n_jobs=5)\nModK.plot()"
      ]
    }
  ],
  "metadata": {
    "kernelspec": {
      "display_name": "Python 3",
      "language": "python",
      "name": "python3"
    },
    "language_info": {
      "codemirror_mode": {
        "name": "ipython",
        "version": 3
      },
      "file_extension": ".py",
      "mimetype": "text/x-python",
      "name": "python",
      "nbconvert_exporter": "python",
      "pygments_lexer": "ipython3",
      "version": "3.7.3"
    }
  },
  "nbformat": 4,
  "nbformat_minor": 0
}