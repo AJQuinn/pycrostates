{
  "cells": [
    {
      "cell_type": "code",
      "execution_count": null,
      "metadata": {
        "collapsed": false
      },
      "outputs": [],
      "source": [
        "%matplotlib inline"
      ]
    },
    {
      "cell_type": "markdown",
      "metadata": {},
      "source": [
        "\n# Clustering performance evaluation\n\nThis example shows how to evaluate the quality of the clustering and gives an indication of how many clusters to choose.\nThis step can be done at different stages of the analysis, at the subject or group level for example.\nPycrostates implements different scores to evaluate the quality of clustering, we will see how to use them.\n"
      ]
    },
    {
      "cell_type": "code",
      "execution_count": null,
      "metadata": {
        "collapsed": false
      },
      "outputs": [],
      "source": [
        "from mne.io import read_raw_edf\nfrom mne.datasets import eegbci\nfrom mne.channels import make_standard_montage\nfrom pycrostates.clustering import ModKMeans\n\nsubject = 1\nruns = [1]\n\nraw_fnames = eegbci.load_data(subject, runs, update_path=True)[0]\nraw = read_raw_edf(raw_fnames, preload=True)\neegbci.standardize(raw)  # set channel names\n\nraw.rename_channels(lambda x: x.strip('.'))\nmontage = make_standard_montage('standard_1005')\nraw.set_montage(montage)\n\nraw.pick('eeg')\nraw.set_eeg_reference('average')"
      ]
    },
    {
      "cell_type": "markdown",
      "metadata": {},
      "source": [
        "We must first fit our clustering algorithm (in our case the modified Kmeans) with some data.\n\n"
      ]
    },
    {
      "cell_type": "code",
      "execution_count": null,
      "metadata": {
        "collapsed": false
      },
      "outputs": [],
      "source": [
        "n_clusters = 4\nModK = ModKMeans(n_clusters=n_clusters, random_state=42)\nModK.fit(raw, n_jobs=5)\nModK.plot()"
      ]
    },
    {
      "cell_type": "markdown",
      "metadata": {},
      "source": [
        "We can then compute several clustering performance score on the fitted instance.\n\n"
      ]
    },
    {
      "cell_type": "code",
      "execution_count": null,
      "metadata": {
        "collapsed": false
      },
      "outputs": [],
      "source": [
        "from pycrostates.metrics import silhouette, davies_bouldin, calinski_harabasz, dunn\n\nsilhouette_score = silhouette(ModK)\nprint('silhouette score: ', silhouette_score)\ndavies_bouldin_score = davies_bouldin(ModK)\nprint('davies-bouldin score: ', davies_bouldin_score)\ncalinski_harabasz_score = calinski_harabasz(ModK)\nprint('calinski-harabasz score: ', calinski_harabasz_score)\ndunn_score = dunn(ModK)\nprint('dunn score: ', dunn_score)"
      ]
    },
    {
      "cell_type": "markdown",
      "metadata": {},
      "source": [
        "We can compute this score for differents values of n_clusters.\n\n"
      ]
    },
    {
      "cell_type": "code",
      "execution_count": null,
      "metadata": {
        "collapsed": false
      },
      "outputs": [],
      "source": [
        "K = range(4,8)\nsilhouette_scores = list()\ndavies_bouldin_scores = list()\ncalinski_harabasz_scores = list()\ndunn_scores = list()\nfor k in K:\n    ModK = ModKMeans(n_clusters=k, random_state=42)\n    ModK.fit(raw, n_jobs=5)\n    \n    silhouette_score = silhouette(ModK)\n    silhouette_scores.append(silhouette_score)\n    \n    davies_bouldin_score = davies_bouldin(ModK)\n    davies_bouldin_scores.append(davies_bouldin_score)\n    \n    calinski_harabasz_score = calinski_harabasz(ModK)\n    calinski_harabasz_scores.append(calinski_harabasz_score)\n    \n    dunn_score = dunn(ModK)\n    dunn_scores.append(dunn_score)"
      ]
    },
    {
      "cell_type": "markdown",
      "metadata": {},
      "source": [
        "We can compute this score for differents values of n_clusters.\n\n"
      ]
    },
    {
      "cell_type": "code",
      "execution_count": null,
      "metadata": {
        "collapsed": false
      },
      "outputs": [],
      "source": [
        "import matplotlib.pyplot as plt\n\nfig, axs = plt.subplots(4,1)\naxs[0].plot(K,silhouette_scores)\naxs[0].set_title('Silhouette')\naxs[1].plot(K,davies_bouldin_scores)\naxs[1].set_title('davies-bouldin')\naxs[2].plot(K,calinski_harabasz_scores)\naxs[2].set_title('calinski-harabasz')\naxs[3].plot(K,dunn_scores)\naxs[3].set_title('Dunn')\n\n#sphinx_gallery_thumbnail_number = 2\nplt.tight_layout()\nplt.plot()"
      ]
    }
  ],
  "metadata": {
    "kernelspec": {
      "display_name": "Python 3",
      "language": "python",
      "name": "python3"
    },
    "language_info": {
      "codemirror_mode": {
        "name": "ipython",
        "version": 3
      },
      "file_extension": ".py",
      "mimetype": "text/x-python",
      "name": "python",
      "nbconvert_exporter": "python",
      "pygments_lexer": "ipython3",
      "version": "3.7.7"
    }
  },
  "nbformat": 4,
  "nbformat_minor": 0
}