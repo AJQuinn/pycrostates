{
  "cells": [
    {
      "cell_type": "code",
      "execution_count": null,
      "metadata": {
        "collapsed": false
      },
      "outputs": [],
      "source": [
        "%matplotlib inline"
      ]
    },
    {
      "cell_type": "markdown",
      "metadata": {},
      "source": [
        "\n# Global field power peaks extraction\n\nThis example demonstrates how to extract global field power (gfp) peaks.\n"
      ]
    },
    {
      "cell_type": "code",
      "execution_count": null,
      "metadata": {
        "collapsed": false
      },
      "outputs": [],
      "source": [
        "from mne.io import read_raw_edf\nfrom mne.datasets import eegbci\nfrom mne.channels import make_standard_montage\nfrom pycrostates.clustering import ModKMeans\n\nsubject = 1\nruns = [1]\n\nraw_fnames = eegbci.load_data(subject, runs, update_path=True)[0]\nraw = read_raw_edf(raw_fnames, preload=True)\neegbci.standardize(raw)  # set channel names\n\nraw.rename_channels(lambda x: x.strip('.'))\nmontage = make_standard_montage('standard_1005')\nraw.set_montage(montage)\n\nraw.pick('eeg')\nraw.set_eeg_reference('average')"
      ]
    },
    {
      "cell_type": "markdown",
      "metadata": {},
      "source": [
        "Gfp peaks extraction can be done in two ways: the first one using the :func:`~pycrostates.preprocessing.extract_gfp_peaks`.\nNote that this function also works for :class:`mne.epochs.Epochs` but will alwas return a :class:`mne.io.Raw` obejct.\n\n"
      ]
    },
    {
      "cell_type": "code",
      "execution_count": null,
      "metadata": {
        "collapsed": false
      },
      "outputs": [],
      "source": [
        "from pycrostates.preprocessing import extract_gfp_peaks\ngfp_peaks = extract_gfp_peaks(raw, min_peak_distance=3)\ngfp_peaks"
      ]
    },
    {
      "cell_type": "markdown",
      "metadata": {},
      "source": [
        "then fit the gfp peaks to the modified Kmeans algorithm. Make sure not to change the default parameter min_peak_distance=0\nto avoid performing GFP extraction on your already extracted gfp peaks.\n\n"
      ]
    },
    {
      "cell_type": "code",
      "execution_count": null,
      "metadata": {
        "collapsed": false
      },
      "outputs": [],
      "source": [
        "n_clusters = 4\nModK = ModKMeans(n_clusters=n_clusters, random_state=42)\nModK.fit(gfp_peaks, n_jobs=5, min_peak_distance=0)\nModK.plot()"
      ]
    },
    {
      "cell_type": "markdown",
      "metadata": {},
      "source": [
        "or directly extract gfp peaks during the fitting using the min_peak_distance parameter of :meth:`ModK.fit`.\n\n"
      ]
    },
    {
      "cell_type": "code",
      "execution_count": null,
      "metadata": {
        "collapsed": false
      },
      "outputs": [],
      "source": [
        "n_clusters = 4\nModK = ModKMeans(n_clusters=n_clusters, random_state=42)\nModK.fit(raw, min_peak_distance=3, n_jobs=5)\nModK.plot()"
      ]
    }
  ],
  "metadata": {
    "kernelspec": {
      "display_name": "Python 3",
      "language": "python",
      "name": "python3"
    },
    "language_info": {
      "codemirror_mode": {
        "name": "ipython",
        "version": 3
      },
      "file_extension": ".py",
      "mimetype": "text/x-python",
      "name": "python",
      "nbconvert_exporter": "python",
      "pygments_lexer": "ipython3",
      "version": "3.7.3"
    }
  },
  "nbformat": 4,
  "nbformat_minor": 0
}