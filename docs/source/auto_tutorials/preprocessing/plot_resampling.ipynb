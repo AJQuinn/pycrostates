{
  "cells": [
    {
      "cell_type": "code",
      "execution_count": null,
      "metadata": {
        "collapsed": false
      },
      "outputs": [],
      "source": [
        "%matplotlib inline"
      ]
    },
    {
      "cell_type": "markdown",
      "metadata": {},
      "source": [
        "\n# Resampling\n\nThis example demonstrates how resemple a recording.\n"
      ]
    },
    {
      "cell_type": "markdown",
      "metadata": {},
      "source": [
        "We start by loading some example data:\n\n"
      ]
    },
    {
      "cell_type": "code",
      "execution_count": null,
      "metadata": {
        "collapsed": false
      },
      "outputs": [],
      "source": [
        "import mne\nfrom mne.io import read_raw_edf\nfrom mne.datasets import eegbci\nfrom mne.channels import make_standard_montage\nsubject = 1\nruns = [1]\n\nraw_fnames = eegbci.load_data(subject, runs, update_path=True)[0]\nraw = read_raw_edf(raw_fnames, preload=True)"
      ]
    },
    {
      "cell_type": "markdown",
      "metadata": {},
      "source": [
        "We can now use the :func:`~pycrostates.preprocessing.resample`function to draw n_epochs of n_samples\nfor our recording where n_sample defines the number of sample cointained in each epoch\nand n_epochs defines the number of epochs to draw.\n\n"
      ]
    },
    {
      "cell_type": "code",
      "execution_count": null,
      "metadata": {
        "collapsed": false
      },
      "outputs": [],
      "source": [
        "from pycrostates.preprocessing import resample\nresamples = resample(raw, n_epochs=10, n_samples=150, random_state=40)\nresamples"
      ]
    },
    {
      "cell_type": "markdown",
      "metadata": {},
      "source": [
        "We can also use the 'coverage' parameter to automatically compute one of the two preivous parameters\nbased on the amount of original data we want to cover.\nfor exemple by setting n_epochs and coverage:\n\n"
      ]
    },
    {
      "cell_type": "code",
      "execution_count": null,
      "metadata": {
        "collapsed": false
      },
      "outputs": [],
      "source": [
        "resamples = resample(raw, n_epochs=10, coverage=0.5, random_state=40)"
      ]
    },
    {
      "cell_type": "code",
      "execution_count": null,
      "metadata": {
        "collapsed": false
      },
      "outputs": [],
      "source": [
        "resamples = resample(raw, n_samples=150, coverage=0.5, random_state=40)"
      ]
    },
    {
      "cell_type": "markdown",
      "metadata": {},
      "source": [
        "Finally, we can also use this function to resample :func:`~mne.epochs.Epochs`\n\n"
      ]
    },
    {
      "cell_type": "code",
      "execution_count": null,
      "metadata": {
        "collapsed": false
      },
      "outputs": [],
      "source": [
        "epochs = mne.make_fixed_length_epochs(raw, duration=2, preload=True)\nresamples = resample(epochs, n_samples=150, coverage=0.5, random_state=40)"
      ]
    }
  ],
  "metadata": {
    "kernelspec": {
      "display_name": "Python 3",
      "language": "python",
      "name": "python3"
    },
    "language_info": {
      "codemirror_mode": {
        "name": "ipython",
        "version": 3
      },
      "file_extension": ".py",
      "mimetype": "text/x-python",
      "name": "python",
      "nbconvert_exporter": "python",
      "pygments_lexer": "ipython3",
      "version": "3.7.7"
    }
  },
  "nbformat": 4,
  "nbformat_minor": 0
}