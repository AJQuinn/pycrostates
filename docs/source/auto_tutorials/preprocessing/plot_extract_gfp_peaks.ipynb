{
  "cells": [
    {
      "cell_type": "code",
      "execution_count": null,
      "metadata": {
        "collapsed": false
      },
      "outputs": [],
      "source": [
        "%matplotlib inline"
      ]
    },
    {
      "cell_type": "markdown",
      "metadata": {},
      "source": [
        "\n# Global field power peaks extraction\n\nThis example demonstrates how to extract global field power (gfp) peaks for an eeg recording.\n"
      ]
    },
    {
      "cell_type": "markdown",
      "metadata": {},
      "source": [
        "We start by loading some example data:\n\n"
      ]
    },
    {
      "cell_type": "code",
      "execution_count": null,
      "metadata": {
        "collapsed": false
      },
      "outputs": [],
      "source": [
        "import mne\nfrom mne.io import read_raw_edf\nfrom mne.datasets import eegbci\nfrom mne.channels import make_standard_montage\nsubject = 1\nruns = [1]\n\nraw_fnames = eegbci.load_data(subject, runs, update_path=True)[0]\nraw = read_raw_edf(raw_fnames, preload=True)\nraw.pick('eeg')"
      ]
    },
    {
      "cell_type": "markdown",
      "metadata": {},
      "source": [
        "We can then use the :func:`~pycrostates.preprocessing.extract_gfp_peaks` function to extract samples with highest global field power.\nThe min_peak_distance allow to select the minimum number of sample beween 2 selected peaks.\n\n"
      ]
    },
    {
      "cell_type": "code",
      "execution_count": null,
      "metadata": {
        "collapsed": false
      },
      "outputs": [],
      "source": [
        "from pycrostates.preprocessing import extract_gfp_peaks\nraw_peaks = extract_gfp_peaks(raw, min_peak_distance=3)\nraw_peaks"
      ]
    },
    {
      "cell_type": "markdown",
      "metadata": {},
      "source": [
        "<div class=\"alert alert-danger\"><h4>Warning</h4><p>The returned object will always be a :class:`~mne.io.Raw`, but\n   should not be used for any other purpose than fitting a\n   clustering algorithm. To avoid any misuse of this object,\n   we have deliberately assigned its sampling rate to -1.</p></div>\n\n"
      ]
    },
    {
      "cell_type": "code",
      "execution_count": null,
      "metadata": {
        "collapsed": false
      },
      "outputs": [],
      "source": [
        "raw_peaks.info['sfreq']"
      ]
    },
    {
      "cell_type": "markdown",
      "metadata": {},
      "source": [
        "Note that this function can also be used on :func:`~mne.epochs.Epochs`\nbut will always return a :class:`~mne.io.Raw` instance.\n\n"
      ]
    },
    {
      "cell_type": "code",
      "execution_count": null,
      "metadata": {
        "collapsed": false
      },
      "outputs": [],
      "source": [
        "epochs = mne.make_fixed_length_epochs(raw, duration=2, preload=True)\nepochs_peaks = extract_gfp_peaks(epochs, min_peak_distance=3)\nepochs_peaks"
      ]
    }
  ],
  "metadata": {
    "kernelspec": {
      "display_name": "Python 3",
      "language": "python",
      "name": "python3"
    },
    "language_info": {
      "codemirror_mode": {
        "name": "ipython",
        "version": 3
      },
      "file_extension": ".py",
      "mimetype": "text/x-python",
      "name": "python",
      "nbconvert_exporter": "python",
      "pygments_lexer": "ipython3",
      "version": "3.7.7"
    }
  },
  "nbformat": 4,
  "nbformat_minor": 0
}